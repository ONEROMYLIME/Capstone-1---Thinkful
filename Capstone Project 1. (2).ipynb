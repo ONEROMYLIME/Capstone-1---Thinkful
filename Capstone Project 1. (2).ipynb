{
 "cells": [
  {
   "cell_type": "markdown",
   "metadata": {},
   "source": [
    "# DATSET \n",
    "   CITY PAYROLL - This Data includes department titles, job titles, projected annual salaries (with breakdowns of quarterly pay), bonuses, and benefits information for the city of Los Angeles. \n",
    "   Data Source: https://www.kaggle.com/cityofLA/city-payroll-data\n",
    "   \n",
    "# Analysis \n",
    "   I live in the city of Los Angeles, a very large city. With having so many people live, work, and visit the city requires a huge amount of employees to provide the services to keep the city operational. This report uses The city pay roll to look at trends in the employee benefits.  Using this information I wanted to answer the following questions. What types of departments make up the city of L.A? Do Employee Benfeits vary significantly between departments? What are the average cost of the benefit plans?\n"
   ]
  },
  {
   "cell_type": "code",
   "execution_count": 1,
   "metadata": {},
   "outputs": [],
   "source": [
    "import numpy as np\n",
    "import pandas as pd\n",
    "import matplotlib.pyplot as plt\n",
    "%matplotlib inline"
   ]
  },
  {
   "cell_type": "code",
   "execution_count": 2,
   "metadata": {
    "scrolled": false
   },
   "outputs": [
    {
     "data": {
      "text/html": [
       "<div>\n",
       "<style scoped>\n",
       "    .dataframe tbody tr th:only-of-type {\n",
       "        vertical-align: middle;\n",
       "    }\n",
       "\n",
       "    .dataframe tbody tr th {\n",
       "        vertical-align: top;\n",
       "    }\n",
       "\n",
       "    .dataframe thead th {\n",
       "        text-align: right;\n",
       "    }\n",
       "</style>\n",
       "<table border=\"1\" class=\"dataframe\">\n",
       "  <thead>\n",
       "    <tr style=\"text-align: right;\">\n",
       "      <th></th>\n",
       "      <th>Row ID</th>\n",
       "      <th>Year</th>\n",
       "      <th>Department Title</th>\n",
       "      <th>Payroll Department</th>\n",
       "      <th>Record Number</th>\n",
       "      <th>Job Class Title</th>\n",
       "      <th>Employment Type</th>\n",
       "      <th>Hourly or Event Rate</th>\n",
       "      <th>Projected Annual Salary</th>\n",
       "      <th>Q1 Payments</th>\n",
       "      <th>...</th>\n",
       "      <th>MOU Title</th>\n",
       "      <th>FMS Department</th>\n",
       "      <th>Job Class</th>\n",
       "      <th>Pay Grade</th>\n",
       "      <th>Average Health Cost</th>\n",
       "      <th>Average Dental Cost</th>\n",
       "      <th>Average Basic Life</th>\n",
       "      <th>Average Benefit Cost</th>\n",
       "      <th>Benefits Plan</th>\n",
       "      <th>Job Class Link</th>\n",
       "    </tr>\n",
       "  </thead>\n",
       "  <tbody>\n",
       "    <tr>\n",
       "      <th>0</th>\n",
       "      <td>111391</td>\n",
       "      <td>2014</td>\n",
       "      <td>Water And Power (DWP)</td>\n",
       "      <td>NaN</td>\n",
       "      <td>1412316577</td>\n",
       "      <td>Commercial Service Representative</td>\n",
       "      <td>Full Time</td>\n",
       "      <td>NaN</td>\n",
       "      <td>$70386.48</td>\n",
       "      <td>$16129.89</td>\n",
       "      <td>...</td>\n",
       "      <td>NaN</td>\n",
       "      <td>98</td>\n",
       "      <td>1230</td>\n",
       "      <td>NaN</td>\n",
       "      <td>$16842.08</td>\n",
       "      <td>$1282.61</td>\n",
       "      <td>$0.00</td>\n",
       "      <td>$18124.69</td>\n",
       "      <td>DWP</td>\n",
       "      <td>http://per.lacity.org/perspecs/1230.pdf</td>\n",
       "    </tr>\n",
       "    <tr>\n",
       "      <th>1</th>\n",
       "      <td>31732</td>\n",
       "      <td>2013</td>\n",
       "      <td>Police (LAPD)</td>\n",
       "      <td>4301.0</td>\n",
       "      <td>432728338</td>\n",
       "      <td>Police Officer I</td>\n",
       "      <td>Full Time</td>\n",
       "      <td>$25.12</td>\n",
       "      <td>$52450.56</td>\n",
       "      <td>$11331.00</td>\n",
       "      <td>...</td>\n",
       "      <td>POLICE OFFICERS UNIT</td>\n",
       "      <td>70</td>\n",
       "      <td>2214</td>\n",
       "      <td>A</td>\n",
       "      <td>$11651.40</td>\n",
       "      <td>$898.08</td>\n",
       "      <td>$191.04</td>\n",
       "      <td>$12740.52</td>\n",
       "      <td>Police</td>\n",
       "      <td>http://per.lacity.org/perspecs/2214.pdf</td>\n",
       "    </tr>\n",
       "    <tr>\n",
       "      <th>2</th>\n",
       "      <td>27697</td>\n",
       "      <td>2013</td>\n",
       "      <td>Police (LAPD)</td>\n",
       "      <td>4301.0</td>\n",
       "      <td>97182506</td>\n",
       "      <td>Police Officer II</td>\n",
       "      <td>Full Time</td>\n",
       "      <td>$42.77</td>\n",
       "      <td>$89303.76</td>\n",
       "      <td>$20036.32</td>\n",
       "      <td>...</td>\n",
       "      <td>POLICE OFFICERS UNIT</td>\n",
       "      <td>70</td>\n",
       "      <td>2214</td>\n",
       "      <td>2</td>\n",
       "      <td>$11651.40</td>\n",
       "      <td>$898.08</td>\n",
       "      <td>$191.04</td>\n",
       "      <td>$12740.52</td>\n",
       "      <td>Police</td>\n",
       "      <td>http://per.lacity.org/perspecs/2214.pdf</td>\n",
       "    </tr>\n",
       "    <tr>\n",
       "      <th>3</th>\n",
       "      <td>14136</td>\n",
       "      <td>2013</td>\n",
       "      <td>Harbor (Port of LA)</td>\n",
       "      <td>3201.0</td>\n",
       "      <td>950136941</td>\n",
       "      <td>Senior Security Officer</td>\n",
       "      <td>Full Time</td>\n",
       "      <td>$28.75</td>\n",
       "      <td>$60028.96</td>\n",
       "      <td>$15793.88</td>\n",
       "      <td>...</td>\n",
       "      <td>SUPV BLUE COLLAR</td>\n",
       "      <td>42</td>\n",
       "      <td>3184</td>\n",
       "      <td>0</td>\n",
       "      <td>$10710.24</td>\n",
       "      <td>$405.24</td>\n",
       "      <td>$11.40</td>\n",
       "      <td>$11126.88</td>\n",
       "      <td>City</td>\n",
       "      <td>http://per.lacity.org/perspecs/3184.pdf</td>\n",
       "    </tr>\n",
       "    <tr>\n",
       "      <th>4</th>\n",
       "      <td>91896</td>\n",
       "      <td>2014</td>\n",
       "      <td>Public Works - Sanitation</td>\n",
       "      <td>7024.0</td>\n",
       "      <td>3230003445</td>\n",
       "      <td>Senior Clerk Typist</td>\n",
       "      <td>Full Time</td>\n",
       "      <td>$30.92</td>\n",
       "      <td>$64553.13</td>\n",
       "      <td>$14700.00</td>\n",
       "      <td>...</td>\n",
       "      <td>CLERICAL UNIT</td>\n",
       "      <td>82</td>\n",
       "      <td>1368</td>\n",
       "      <td>0</td>\n",
       "      <td>$11000.40</td>\n",
       "      <td>$409.68</td>\n",
       "      <td>$11.40</td>\n",
       "      <td>$11421.48</td>\n",
       "      <td>City</td>\n",
       "      <td>http://per.lacity.org/perspecs/1368.pdf</td>\n",
       "    </tr>\n",
       "  </tbody>\n",
       "</table>\n",
       "<p>5 rows × 35 columns</p>\n",
       "</div>"
      ],
      "text/plain": [
       "   Row ID  Year           Department Title  Payroll Department Record Number  \\\n",
       "0  111391  2014      Water And Power (DWP)                 NaN    1412316577   \n",
       "1   31732  2013              Police (LAPD)              4301.0     432728338   \n",
       "2   27697  2013              Police (LAPD)              4301.0      97182506   \n",
       "3   14136  2013        Harbor (Port of LA)              3201.0     950136941   \n",
       "4   91896  2014  Public Works - Sanitation              7024.0    3230003445   \n",
       "\n",
       "                     Job Class Title Employment Type Hourly or Event Rate  \\\n",
       "0  Commercial Service Representative       Full Time                  NaN   \n",
       "1                   Police Officer I       Full Time               $25.12   \n",
       "2                  Police Officer II       Full Time               $42.77   \n",
       "3            Senior Security Officer       Full Time               $28.75   \n",
       "4                Senior Clerk Typist       Full Time               $30.92   \n",
       "\n",
       "  Projected Annual Salary Q1 Payments  ...             MOU Title  \\\n",
       "0               $70386.48   $16129.89  ...                   NaN   \n",
       "1               $52450.56   $11331.00  ...  POLICE OFFICERS UNIT   \n",
       "2               $89303.76   $20036.32  ...  POLICE OFFICERS UNIT   \n",
       "3               $60028.96   $15793.88  ...      SUPV BLUE COLLAR   \n",
       "4               $64553.13   $14700.00  ...         CLERICAL UNIT   \n",
       "\n",
       "  FMS Department Job Class Pay Grade Average Health Cost Average Dental Cost  \\\n",
       "0             98      1230       NaN           $16842.08            $1282.61   \n",
       "1             70      2214         A           $11651.40             $898.08   \n",
       "2             70      2214         2           $11651.40             $898.08   \n",
       "3             42      3184         0           $10710.24             $405.24   \n",
       "4             82      1368         0           $11000.40             $409.68   \n",
       "\n",
       "  Average Basic Life Average Benefit Cost Benefits Plan  \\\n",
       "0              $0.00            $18124.69           DWP   \n",
       "1            $191.04            $12740.52        Police   \n",
       "2            $191.04            $12740.52        Police   \n",
       "3             $11.40            $11126.88          City   \n",
       "4             $11.40            $11421.48          City   \n",
       "\n",
       "                            Job Class Link  \n",
       "0  http://per.lacity.org/perspecs/1230.pdf  \n",
       "1  http://per.lacity.org/perspecs/2214.pdf  \n",
       "2  http://per.lacity.org/perspecs/2214.pdf  \n",
       "3  http://per.lacity.org/perspecs/3184.pdf  \n",
       "4  http://per.lacity.org/perspecs/1368.pdf  \n",
       "\n",
       "[5 rows x 35 columns]"
      ]
     },
     "execution_count": 2,
     "metadata": {},
     "output_type": "execute_result"
    }
   ],
   "source": [
    "la = pd.read_csv(r'C:\\Users\\moren\\OneDrive\\Documents\\la-city-payroll-data\\data.csv', low_memory=False )\n",
    "la.head()"
   ]
  },
  {
   "cell_type": "markdown",
   "metadata": {},
   "source": [
    "# Department Types"
   ]
  },
  {
   "cell_type": "code",
   "execution_count": 3,
   "metadata": {},
   "outputs": [
    {
     "data": {
      "text/plain": [
       "Police (LAPD)                                                   66057\n",
       "Water And Power (DWP)                                           53545\n",
       "Recreation And Parks                                            35344\n",
       "Fire (LAFD)                                                     18134\n",
       "Airports (LAWA)                                                 18060\n",
       "Public Works - Sanitation                                       14740\n",
       "Transportation (LADOT)                                           9701\n",
       "General Services                                                 7661\n",
       "Library                                                          7296\n",
       "Harbor (Port of LA)                                              5604\n",
       "Building and Safety                                              4729\n",
       "City Attorney                                                    4542\n",
       "Public Works - Street Services                                   4509\n",
       "Public Works - Engineering                                       3863\n",
       "Personnel                                                        3794\n",
       "Housing And Community Investment Department                      3255\n",
       "Information Technology Agency                                    2492\n",
       "City Clerk                                                       2342\n",
       "Office of Finance                                                1870\n",
       "Zoo                                                              1796\n",
       "Animal Services                                                  1753\n",
       "Public Works - Contract Administration                           1485\n",
       "City Planning                                                    1272\n",
       "Public Works - Street Lighting                                   1139\n",
       "Mayor                                                             982\n",
       "Economic And Workforce Development Department (EWDD)              896\n",
       "Cultural Affairs                                                  816\n",
       "Controller                                                        815\n",
       "City Employees Retirement System (LACERS)                         752\n",
       "City Administrative Officer (CAO)                                 640\n",
       "Pension (LAFPP)                                                   637\n",
       "Los Angeles Convention Center                                     485\n",
       "Public Works - Board of Public Works                              456\n",
       "City Planning And Development (DCP)                               329\n",
       "Office of the Chief Legislative Analyst (CLA)                     249\n",
       "Aging                                                             238\n",
       "Neighborhood Empowerment (DONE)                                   215\n",
       "Emergency Management                                              202\n",
       "El Pueblo De Los Angeles Historical Monument Authority            177\n",
       "Council District 04 (CD 4)                                        151\n",
       "City Ethics Commission                                            141\n",
       "Council District 14 (CD 14)                                       138\n",
       "Council District 05 (CD 5)                                        132\n",
       "Council District 01 (CD 1)                                        123\n",
       "Council District 06 (CD 6)                                        123\n",
       "Council District 02 (CD 2)                                        123\n",
       "Council District 11 (CD 11)                                       122\n",
       "Council District 08 (CD 8)                                        119\n",
       "Council District 07 (CD 7)                                        118\n",
       "Council District 10 (CD 10)                                       117\n",
       "Council District 15 (CD 15)                                       113\n",
       "Council District 12 (CD 12)                                       113\n",
       "Council District 09 (CD 9)                                        110\n",
       "Council District 03 (CD 3)                                        109\n",
       "Council District 13 (CD 13)                                       107\n",
       "Disability                                                         84\n",
       "Los Angeles Department of Convention and Tourism Development       56\n",
       "Employee Relations Board                                           37\n",
       "Name: Department Title, dtype: int64"
      ]
     },
     "execution_count": 3,
     "metadata": {},
     "output_type": "execute_result"
    }
   ],
   "source": [
    "#Departments and Number of Employees\n",
    "la['Department Title'].value_counts()"
   ]
  },
  {
   "cell_type": "markdown",
   "metadata": {},
   "source": [
    "The city of L.A has many departments and in order to focus on just the benefits recieved by each department, I grouped toghether just the columns of data that had to do with health benefits. I also included Employment type and Projected annual salary to look at two other key factors."
   ]
  },
  {
   "cell_type": "code",
   "execution_count": 4,
   "metadata": {},
   "outputs": [],
   "source": [
    "benefits = la[['Department Title', 'Job Class Title', 'Employment Type', \n",
    "               'Projected Annual Salary', 'Average Health Cost', 'Average Dental Cost', \n",
    "               'Average Basic Life', 'Average Benefit Cost', 'Benefits Plan']]"
   ]
  },
  {
   "cell_type": "code",
   "execution_count": 5,
   "metadata": {},
   "outputs": [
    {
     "data": {
      "text/html": [
       "<div>\n",
       "<style scoped>\n",
       "    .dataframe tbody tr th:only-of-type {\n",
       "        vertical-align: middle;\n",
       "    }\n",
       "\n",
       "    .dataframe tbody tr th {\n",
       "        vertical-align: top;\n",
       "    }\n",
       "\n",
       "    .dataframe thead th {\n",
       "        text-align: right;\n",
       "    }\n",
       "</style>\n",
       "<table border=\"1\" class=\"dataframe\">\n",
       "  <thead>\n",
       "    <tr style=\"text-align: right;\">\n",
       "      <th></th>\n",
       "      <th>Department Title</th>\n",
       "      <th>Job Class Title</th>\n",
       "      <th>Employment Type</th>\n",
       "      <th>Projected Annual Salary</th>\n",
       "      <th>Average Health Cost</th>\n",
       "      <th>Average Dental Cost</th>\n",
       "      <th>Average Basic Life</th>\n",
       "      <th>Average Benefit Cost</th>\n",
       "      <th>Benefits Plan</th>\n",
       "    </tr>\n",
       "  </thead>\n",
       "  <tbody>\n",
       "    <tr>\n",
       "      <th>0</th>\n",
       "      <td>Water And Power (DWP)</td>\n",
       "      <td>Commercial Service Representative</td>\n",
       "      <td>Full Time</td>\n",
       "      <td>$70386.48</td>\n",
       "      <td>$16842.08</td>\n",
       "      <td>$1282.61</td>\n",
       "      <td>$0.00</td>\n",
       "      <td>$18124.69</td>\n",
       "      <td>DWP</td>\n",
       "    </tr>\n",
       "    <tr>\n",
       "      <th>1</th>\n",
       "      <td>Police (LAPD)</td>\n",
       "      <td>Police Officer I</td>\n",
       "      <td>Full Time</td>\n",
       "      <td>$52450.56</td>\n",
       "      <td>$11651.40</td>\n",
       "      <td>$898.08</td>\n",
       "      <td>$191.04</td>\n",
       "      <td>$12740.52</td>\n",
       "      <td>Police</td>\n",
       "    </tr>\n",
       "    <tr>\n",
       "      <th>2</th>\n",
       "      <td>Police (LAPD)</td>\n",
       "      <td>Police Officer II</td>\n",
       "      <td>Full Time</td>\n",
       "      <td>$89303.76</td>\n",
       "      <td>$11651.40</td>\n",
       "      <td>$898.08</td>\n",
       "      <td>$191.04</td>\n",
       "      <td>$12740.52</td>\n",
       "      <td>Police</td>\n",
       "    </tr>\n",
       "    <tr>\n",
       "      <th>3</th>\n",
       "      <td>Harbor (Port of LA)</td>\n",
       "      <td>Senior Security Officer</td>\n",
       "      <td>Full Time</td>\n",
       "      <td>$60028.96</td>\n",
       "      <td>$10710.24</td>\n",
       "      <td>$405.24</td>\n",
       "      <td>$11.40</td>\n",
       "      <td>$11126.88</td>\n",
       "      <td>City</td>\n",
       "    </tr>\n",
       "    <tr>\n",
       "      <th>4</th>\n",
       "      <td>Public Works - Sanitation</td>\n",
       "      <td>Senior Clerk Typist</td>\n",
       "      <td>Full Time</td>\n",
       "      <td>$64553.13</td>\n",
       "      <td>$11000.40</td>\n",
       "      <td>$409.68</td>\n",
       "      <td>$11.40</td>\n",
       "      <td>$11421.48</td>\n",
       "      <td>City</td>\n",
       "    </tr>\n",
       "  </tbody>\n",
       "</table>\n",
       "</div>"
      ],
      "text/plain": [
       "            Department Title                    Job Class Title  \\\n",
       "0      Water And Power (DWP)  Commercial Service Representative   \n",
       "1              Police (LAPD)                   Police Officer I   \n",
       "2              Police (LAPD)                  Police Officer II   \n",
       "3        Harbor (Port of LA)            Senior Security Officer   \n",
       "4  Public Works - Sanitation                Senior Clerk Typist   \n",
       "\n",
       "  Employment Type Projected Annual Salary Average Health Cost  \\\n",
       "0       Full Time               $70386.48           $16842.08   \n",
       "1       Full Time               $52450.56           $11651.40   \n",
       "2       Full Time               $89303.76           $11651.40   \n",
       "3       Full Time               $60028.96           $10710.24   \n",
       "4       Full Time               $64553.13           $11000.40   \n",
       "\n",
       "  Average Dental Cost Average Basic Life Average Benefit Cost Benefits Plan  \n",
       "0            $1282.61              $0.00            $18124.69           DWP  \n",
       "1             $898.08            $191.04            $12740.52        Police  \n",
       "2             $898.08            $191.04            $12740.52        Police  \n",
       "3             $405.24             $11.40            $11126.88          City  \n",
       "4             $409.68             $11.40            $11421.48          City  "
      ]
     },
     "execution_count": 5,
     "metadata": {},
     "output_type": "execute_result"
    }
   ],
   "source": [
    "benefits.head()"
   ]
  },
  {
   "cell_type": "markdown",
   "metadata": {},
   "source": [
    "Using only the benifits plan column I can determine that there are four types of Benefit plans that I can use to group each department title under. "
   ]
  },
  {
   "cell_type": "code",
   "execution_count": 6,
   "metadata": {},
   "outputs": [
    {
     "data": {
      "text/plain": [
       "City      125266\n",
       "DWP        53030\n",
       "Police     51069\n",
       "Fire       16561\n",
       "Name: Benefits Plan, dtype: int64"
      ]
     },
     "execution_count": 6,
     "metadata": {},
     "output_type": "execute_result"
    }
   ],
   "source": [
    "benefits['Benefits Plan'].value_counts()"
   ]
  },
  {
   "cell_type": "code",
   "execution_count": 7,
   "metadata": {},
   "outputs": [
    {
     "data": {
      "text/plain": [
       "<matplotlib.axes._subplots.AxesSubplot at 0x1fab2b49390>"
      ]
     },
     "execution_count": 7,
     "metadata": {},
     "output_type": "execute_result"
    },
    {
     "data": {
      "image/png": "[encoded data removed]",
      "text/plain": [
       "<Figure size 720x504 with 1 Axes>"
      ]
     },
     "metadata": {
      "needs_background": "light"
     },
     "output_type": "display_data"
    }
   ],
   "source": [
    "benefits['Benefits Plan'].value_counts().plot(kind='bar', figsize= (10,7), color=\"green\" )"
   ]
  },
  {
   "cell_type": "markdown",
   "metadata": {},
   "source": [
    "The vast majority of payroll employees are Full Time, whereas a small minority are Part Time or Per Event. This is important to look at because I want to see if my averages are going to be durastically influenced by the type of employment. Employees usually tend to have different benefits depending on employment type."
   ]
  },
  {
   "cell_type": "code",
   "execution_count": 8,
   "metadata": {},
   "outputs": [],
   "source": [
    "by_empl_type = benefits.groupby('Employment Type')"
   ]
  },
  {
   "cell_type": "code",
   "execution_count": 9,
   "metadata": {},
   "outputs": [
    {
     "data": {
      "text/plain": [
       "<matplotlib.axes._subplots.AxesSubplot at 0x1fab582c400>"
      ]
     },
     "execution_count": 9,
     "metadata": {},
     "output_type": "execute_result"
    },
    {
     "data": {
      "image/png": "[encoded data removed]",
      "text/plain": [
       "<Figure size 720x504 with 1 Axes>"
      ]
     },
     "metadata": {
      "needs_background": "light"
     },
     "output_type": "display_data"
    }
   ],
   "source": [
    "by_empl_type['Benefits Plan'].count().plot(kind='bar', figsize=(10,7))\n"
   ]
  },
  {
   "cell_type": "markdown",
   "metadata": {},
   "source": [
    "# Do Employee Benfeits vary significantly between departments?  and What are the average cost of the benefit plans?"
   ]
  },
  {
   "cell_type": "code",
   "execution_count": 10,
   "metadata": {},
   "outputs": [],
   "source": [
    "# Remove dollar sign in the strings of all salary and cost data entries\n",
    "benefits = benefits.replace( '[\\$,)]','', regex=True )\n",
    "\n",
    "# Convert salaries and costs to numeric\n",
    "benefits[['Projected Annual Salary', \n",
    "          'Average Health Cost', \n",
    "          'Average Dental Cost', \n",
    "          'Average Basic Life',\n",
    "          'Average Benefit Cost']] = benefits[['Projected Annual Salary', \n",
    "                                               'Average Health Cost', \n",
    "                                               'Average Dental Cost', \n",
    "                                               'Average Basic Life', \n",
    "                                               'Average Benefit Cost']].apply(pd.to_numeric)"
   ]
  },
  {
   "cell_type": "markdown",
   "metadata": {},
   "source": [
    "I test out one of the benefits plans to find the mean. I group all the benefits to find the Average of each benefit and organize it by Benefit Plan. This shows what Each plan spends the most on. The DWP (Department of Water&power) spends the MOST in both Health, Dental, and none on Basic life. It spends the most Over all and does have the highest benefit cost for its employees. The City spends the LEAST on three of the four categories. Both Fire and Police have very similar averages in spending. This gives some understanding of the differences in benefits by departments."
   ]
  },
  {
   "cell_type": "code",
   "execution_count": 11,
   "metadata": {},
   "outputs": [],
   "source": [
    "fire = benefits[benefits['Benefits Plan'] == 'Fire']"
   ]
  },
  {
   "cell_type": "code",
   "execution_count": 12,
   "metadata": {},
   "outputs": [
    {
     "data": {
      "text/plain": [
       "14017.876734497844"
      ]
     },
     "execution_count": 12,
     "metadata": {},
     "output_type": "execute_result"
    }
   ],
   "source": [
    "fire['Average Benefit Cost'].mean()"
   ]
  },
  {
   "cell_type": "code",
   "execution_count": 13,
   "metadata": {},
   "outputs": [],
   "source": [
    "by_plan = benefits.groupby('Benefits Plan')"
   ]
  },
  {
   "cell_type": "code",
   "execution_count": 14,
   "metadata": {},
   "outputs": [
    {
     "data": {
      "text/html": [
       "<div>\n",
       "<style scoped>\n",
       "    .dataframe tbody tr th:only-of-type {\n",
       "        vertical-align: middle;\n",
       "    }\n",
       "\n",
       "    .dataframe tbody tr th {\n",
       "        vertical-align: top;\n",
       "    }\n",
       "\n",
       "    .dataframe thead th {\n",
       "        text-align: right;\n",
       "    }\n",
       "</style>\n",
       "<table border=\"1\" class=\"dataframe\">\n",
       "  <thead>\n",
       "    <tr style=\"text-align: right;\">\n",
       "      <th></th>\n",
       "      <th>Average Health Cost</th>\n",
       "      <th>Average Dental Cost</th>\n",
       "      <th>Average Basic Life</th>\n",
       "      <th>Average Benefit Cost</th>\n",
       "    </tr>\n",
       "    <tr>\n",
       "      <th>Benefits Plan</th>\n",
       "      <th></th>\n",
       "      <th></th>\n",
       "      <th></th>\n",
       "      <th></th>\n",
       "    </tr>\n",
       "  </thead>\n",
       "  <tbody>\n",
       "    <tr>\n",
       "      <th>City</th>\n",
       "      <td>10224.177159</td>\n",
       "      <td>379.664718</td>\n",
       "      <td>10.565993</td>\n",
       "      <td>10614.407871</td>\n",
       "    </tr>\n",
       "    <tr>\n",
       "      <th>DWP</th>\n",
       "      <td>17144.440031</td>\n",
       "      <td>1261.268069</td>\n",
       "      <td>0.000000</td>\n",
       "      <td>18405.708101</td>\n",
       "    </tr>\n",
       "    <tr>\n",
       "      <th>Fire</th>\n",
       "      <td>12942.125659</td>\n",
       "      <td>900.633882</td>\n",
       "      <td>175.117193</td>\n",
       "      <td>14017.876734</td>\n",
       "    </tr>\n",
       "    <tr>\n",
       "      <th>Police</th>\n",
       "      <td>12237.952930</td>\n",
       "      <td>889.987808</td>\n",
       "      <td>191.217983</td>\n",
       "      <td>13319.158721</td>\n",
       "    </tr>\n",
       "  </tbody>\n",
       "</table>\n",
       "</div>"
      ],
      "text/plain": [
       "               Average Health Cost  Average Dental Cost  Average Basic Life  \\\n",
       "Benefits Plan                                                                 \n",
       "City                  10224.177159           379.664718           10.565993   \n",
       "DWP                   17144.440031          1261.268069            0.000000   \n",
       "Fire                  12942.125659           900.633882          175.117193   \n",
       "Police                12237.952930           889.987808          191.217983   \n",
       "\n",
       "               Average Benefit Cost  \n",
       "Benefits Plan                        \n",
       "City                   10614.407871  \n",
       "DWP                    18405.708101  \n",
       "Fire                   14017.876734  \n",
       "Police                 13319.158721  "
      ]
     },
     "execution_count": 14,
     "metadata": {},
     "output_type": "execute_result"
    }
   ],
   "source": [
    "by_plan[['Average Health Cost', 'Average Dental Cost', \n",
    "         'Average Basic Life', 'Average Benefit Cost']].mean()"
   ]
  },
  {
   "cell_type": "code",
   "execution_count": 15,
   "metadata": {},
   "outputs": [
    {
     "data": {
      "text/plain": [
       "<matplotlib.axes._subplots.AxesSubplot at 0x1faba5d4898>"
      ]
     },
     "execution_count": 15,
     "metadata": {},
     "output_type": "execute_result"
    },
    {
     "data": {
      "image/png": "[encoded data removed]",
      "text/plain": [
       "<Figure size 720x504 with 1 Axes>"
      ]
     },
     "metadata": {
      "needs_background": "light"
     },
     "output_type": "display_data"
    }
   ],
   "source": [
    "by_plan[['Average Health Cost', \n",
    "         'Average Dental Cost', \n",
    "         'Average Basic Life']].mean().plot(kind='bar', stacked=True, figsize=(10, 7), \n",
    "                                            title='Benefits Cost Breakdown Per Department')"
   ]
  },
  {
   "cell_type": "markdown",
   "metadata": {},
   "source": [
    "Now that we see how much is spent on benefits alone we can compare it to the Projected Annual Salary of the four benefits/departements. We can predict who is expected to spend the most on their benefits, in this case DWP and the Police department based on salary."
   ]
  },
  {
   "cell_type": "code",
   "execution_count": 16,
   "metadata": {
    "scrolled": true
   },
   "outputs": [
    {
     "data": {
      "text/plain": [
       "<matplotlib.axes._subplots.AxesSubplot at 0x1fabfce0128>"
      ]
     },
     "execution_count": 16,
     "metadata": {},
     "output_type": "execute_result"
    },
    {
     "data": {
      "image/png": "[encoded data removed]",
      "text/plain": [
       "<Figure size 720x504 with 1 Axes>"
      ]
     },
     "metadata": {
      "needs_background": "light"
     },
     "output_type": "display_data"
    }
   ],
   "source": [
    "by_plan[['Projected Annual Salary', \n",
    "         'Average Benefit Cost']].mean().plot(kind='bar', stacked=True, figsize=(10, 7),\n",
    "                                             title='Total Compensation Breakdown By Department')"
   ]
  },
  {
   "cell_type": "markdown",
   "metadata": {},
   "source": [
    "# Further Research\n",
    "    Every year cities have to analyse where their money is being spent depending on budget cuts, misspending, or expansion. Payroll is very important and making sure that the city employees are being paid accurately and have Benefits that keep them healthy. Further research can be done to answer If the city of L.A  is spending enough in Benefits? and Can it expand its benefits for its employees with lower salaries? To do so the data I am using would have to be cleaned a up to create more accurate calculations. I would look into other data that may contain more information on types of employment/employee that can be expanded on its benefits (i.e length of time working for the city, Age of employee). "
   ]
  }
 ],
 "metadata": {
  "kernelspec": {
   "display_name": "Python 3",
   "language": "python",
   "name": "python3"
  },
  "language_info": {
   "codemirror_mode": {
    "name": "ipython",
    "version": 3
   },
   "file_extension": ".py",
   "mimetype": "text/x-python",
   "name": "python",
   "nbconvert_exporter": "python",
   "pygments_lexer": "ipython3",
   "version": "3.7.3"
  }
 },
 "nbformat": 4,
 "nbformat_minor": 2
}
